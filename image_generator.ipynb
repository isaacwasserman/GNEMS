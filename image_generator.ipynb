{
 "cells": [
  {
   "cell_type": "code",
   "execution_count": 2,
   "metadata": {},
   "outputs": [],
   "source": [
    "import numpy as np\n",
    "import matplotlib.pyplot as plt\n",
    "import torch"
   ]
  },
  {
   "cell_type": "code",
   "execution_count": 11,
   "metadata": {},
   "outputs": [],
   "source": [
    "def generate_color_image(n_colors, n_means, size=512, lf_noise=0.3, mf_noise=0.3, hf_noise=0.3):\n",
    "    n = n_means\n",
    "    k = n_colors\n",
    "\n",
    "    low_frequency_noise_factor = lf_noise\n",
    "    med_frequency_noise_factor = mf_noise\n",
    "    high_frequency_noise_factor = hf_noise\n",
    "\n",
    "    # Generate n random points in the image\n",
    "    points = torch.randint(0, size, size=(n, 2), dtype=torch.float32)\n",
    "\n",
    "    # Generate n random numbers between 0.5 and 1\n",
    "    influences = torch.rand(n) * 0.5 + 0.5\n",
    "\n",
    "    # Assign labels to each point\n",
    "    labels = torch.arange(k, dtype=torch.int64).repeat(n // k + 1)[:n]\n",
    "\n",
    "    # Create a grid of x and y values for all pixels in the image\n",
    "    x, y = torch.meshgrid(torch.arange(size), torch.arange(size))\n",
    "    pixels = torch.stack([x, y], dim=-1).float()\n",
    "\n",
    "    # Compute the distances between all points and all pixels in the image\n",
    "    distances = torch.cdist(pixels.view(-1, 2), points)\n",
    "\n",
    "    # Scale the distances by the influence of the corresponding point\n",
    "    distances = distances * influences\n",
    "\n",
    "    # Find the index of the closest point for each pixel\n",
    "    _, closest = torch.min(distances, dim=-1)\n",
    "    image = labels[closest].reshape(size, size).numpy()\n",
    "\n",
    "    cmap = plt.get_cmap('gist_ncar')\n",
    "    rgba = cmap(image.astype(np.float32) / np.max(image))\n",
    "    rgb = rgba[:, :, :3]\n",
    "\n",
    "    low_freq_noise = torch.randn(3, size // 16, size // 16)\n",
    "    low_freq_noise = torch.nn.functional.interpolate(low_freq_noise[None, ...], size=(size, size), mode='bilinear', align_corners=False).squeeze(0).permute(1, 2, 0).numpy()\n",
    "    med_freq_noise = torch.randn(3, size // 4, size // 4)\n",
    "    med_freq_noise = torch.nn.functional.interpolate(med_freq_noise[None, ...], size=(size, size), mode='bilinear', align_corners=False).squeeze(0).permute(1, 2, 0).numpy()\n",
    "    high_freq_noise = torch.randn(3, size, size).permute(1,2,0).numpy()\n",
    "    rgb = rgb + low_freq_noise * low_frequency_noise_factor + med_freq_noise * med_frequency_noise_factor + high_freq_noise * high_frequency_noise_factor\n",
    "    rgb = np.clip(rgb, 0, 1)\n",
    "    \n",
    "    return rgb\n",
    "\n",
    "for i in range(10):\n",
    "    im = generate_color_image(n_colors=5, n_means=5, size=512, lf_noise=0.3, mf_noise=0.3, hf_noise=0.3)\n",
    "    plt.imsave(f'./synthetic_color_images/{i:04d}.png', im)"
   ]
  }
 ],
 "metadata": {
  "kernelspec": {
   "display_name": "pytorch",
   "language": "python",
   "name": "python3"
  },
  "language_info": {
   "codemirror_mode": {
    "name": "ipython",
    "version": 3
   },
   "file_extension": ".py",
   "mimetype": "text/x-python",
   "name": "python",
   "nbconvert_exporter": "python",
   "pygments_lexer": "ipython3",
   "version": "3.10.9"
  },
  "orig_nbformat": 4
 },
 "nbformat": 4,
 "nbformat_minor": 2
}
